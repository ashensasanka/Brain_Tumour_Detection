{
 "cells": [
  {
   "cell_type": "code",
   "execution_count": 2,
   "metadata": {},
   "outputs": [],
   "source": [
    "import opendatasets as od\n",
    "import pandas\n",
    "\n",
    "# od.download(\n",
    "# \t\"https://www.kaggle.com/datasets/masoudnickparvar/brain-tumor-mri-dataset\")\n"
   ]
  },
  {
   "cell_type": "code",
   "execution_count": 3,
   "metadata": {},
   "outputs": [],
   "source": [
    "import warnings\n",
    "warnings.filterwarnings('ignore')"
   ]
  },
  {
   "cell_type": "code",
   "execution_count": 4,
   "metadata": {},
   "outputs": [],
   "source": [
    "import numpy as np\n",
    "import matplotlib.pyplot as plt\n",
    "import os\n",
    "import math\n",
    "import shutil\n",
    "import glob"
   ]
  },
  {
   "cell_type": "markdown",
   "metadata": {},
   "source": [
    "count the number of images in the respective classes <br>\n",
    "0 - Brain Tumout <br>\n",
    "1 - Healthey"
   ]
  },
  {
   "cell_type": "code",
   "execution_count": 5,
   "metadata": {},
   "outputs": [],
   "source": [
    "ROOT_DIR = 'C:/Users/ashen/Downloads/ML-projects/brain-tumor-mri-dataset/Training'\n",
    "number_of_images = {}\n",
    "\n",
    "for dir in os.listdir(ROOT_DIR):\n",
    "    number_of_images[dir] = len(os.listdir(os.path.join(ROOT_DIR, dir)))"
   ]
  },
  {
   "cell_type": "code",
   "execution_count": 6,
   "metadata": {},
   "outputs": [
    {
     "data": {
      "text/plain": [
       "dict_items([('glioma', 1321), ('meningioma', 1339), ('notumor', 1595), ('pituitary', 1457)])"
      ]
     },
     "execution_count": 6,
     "metadata": {},
     "output_type": "execute_result"
    }
   ],
   "source": [
    "number_of_images.items()"
   ]
  },
  {
   "cell_type": "markdown",
   "metadata": {},
   "source": [
    "### We will split the data such that ###\n",
    "\n",
    "* 70% for Train data\n",
    "* 15% for Validation\n",
    "* 15% for Testing\n"
   ]
  },
  {
   "cell_type": "markdown",
   "metadata": {},
   "source": [
    "## Model Build ##"
   ]
  },
  {
   "cell_type": "code",
   "execution_count": 16,
   "metadata": {},
   "outputs": [],
   "source": [
    "from keras.layers import Conv2D, MaxPool2D, Dropout, Flatten, Dense, BatchNormalization, GlobalAvgPool2D\n",
    "from keras.models import Sequential\n",
    "from keras.preprocessing.image import ImageDataGenerator\n",
    "from keras.applications.mobilenet import preprocess_input\n",
    "import keras"
   ]
  },
  {
   "cell_type": "markdown",
   "metadata": {},
   "source": [
    "### CNN Model ###"
   ]
  },
  {
   "cell_type": "code",
   "execution_count": 8,
   "metadata": {},
   "outputs": [],
   "source": [
    "model = Sequential()\n",
    "\n",
    "model.add(Conv2D(filters=16, kernel_size=(3,3), activation='relu', input_shape=(224,224,3)))\n",
    "\n",
    "model.add(Conv2D(filters=36, kernel_size=(3,3), activation='relu'))\n",
    "model.add(MaxPool2D(pool_size=(2,2)))\n",
    "\n",
    "model.add(Conv2D(filters=64, kernel_size=(3,3), activation='relu'))\n",
    "model.add(MaxPool2D(pool_size=(2,2)))\n",
    "\n",
    "model.add(Conv2D(filters=128, kernel_size=(3,3), activation='relu'))\n",
    "model.add(MaxPool2D(pool_size=(2,2)))\n",
    "\n",
    "model.add(Dropout(rate=0.25))\n",
    "\n",
    "model.add(Flatten())\n",
    "model.add(Dense(units=64, activation='relu'))\n",
    "model.add(Dropout(rate=0.25))\n",
    "model.add(Dense(units=1, activation='sigmoid'))"
   ]
  },
  {
   "cell_type": "code",
   "execution_count": 9,
   "metadata": {},
   "outputs": [
    {
     "name": "stdout",
     "output_type": "stream",
     "text": [
      "Model: \"sequential\"\n",
      "_________________________________________________________________\n",
      " Layer (type)                Output Shape              Param #   \n",
      "=================================================================\n",
      " conv2d (Conv2D)             (None, 222, 222, 16)      448       \n",
      "                                                                 \n",
      " conv2d_1 (Conv2D)           (None, 220, 220, 36)      5220      \n",
      "                                                                 \n",
      " max_pooling2d (MaxPooling2  (None, 110, 110, 36)      0         \n",
      " D)                                                              \n",
      "                                                                 \n",
      " conv2d_2 (Conv2D)           (None, 108, 108, 64)      20800     \n",
      "                                                                 \n",
      " max_pooling2d_1 (MaxPoolin  (None, 54, 54, 64)        0         \n",
      " g2D)                                                            \n",
      "                                                                 \n",
      " conv2d_3 (Conv2D)           (None, 52, 52, 128)       73856     \n",
      "                                                                 \n",
      " max_pooling2d_2 (MaxPoolin  (None, 26, 26, 128)       0         \n",
      " g2D)                                                            \n",
      "                                                                 \n",
      " dropout (Dropout)           (None, 26, 26, 128)       0         \n",
      "                                                                 \n",
      " flatten (Flatten)           (None, 86528)             0         \n",
      "                                                                 \n",
      " dense (Dense)               (None, 64)                5537856   \n",
      "                                                                 \n",
      " dropout_1 (Dropout)         (None, 64)                0         \n",
      "                                                                 \n",
      " dense_1 (Dense)             (None, 1)                 65        \n",
      "                                                                 \n",
      "=================================================================\n",
      "Total params: 5638245 (21.51 MB)\n",
      "Trainable params: 5638245 (21.51 MB)\n",
      "Non-trainable params: 0 (0.00 Byte)\n",
      "_________________________________________________________________\n"
     ]
    }
   ],
   "source": [
    "model.summary()"
   ]
  },
  {
   "cell_type": "code",
   "execution_count": 10,
   "metadata": {},
   "outputs": [],
   "source": [
    "model.compile(optimizer='adam', loss=keras.losses.binary_crossentropy, metrics=['accuracy'])"
   ]
  },
  {
   "cell_type": "markdown",
   "metadata": {},
   "source": [
    "#### Preparing our data using Data Generator ####"
   ]
  },
  {
   "cell_type": "code",
   "execution_count": 17,
   "metadata": {},
   "outputs": [],
   "source": [
    "def preprocessingImages1(path):\n",
    "    ## input :path\n",
    "    ## output: Pre processed images\n",
    "    image_data = ImageDataGenerator(zoom_range= 0.2, shear_range= 0.2, preprocessing_function= preprocess_input, horizontal_flip=True)\n",
    "    image = image_data.flow_from_directory(directory=path, target_size=(224,224), batch_size=32, class_mode='binary')\n",
    "\n",
    "    return image"
   ]
  },
  {
   "cell_type": "code",
   "execution_count": 18,
   "metadata": {},
   "outputs": [
    {
     "name": "stdout",
     "output_type": "stream",
     "text": [
      "Found 5712 images belonging to 4 classes.\n"
     ]
    }
   ],
   "source": [
    "path = 'C:/Users/ashen/Downloads/ML-projects/brain-tumor-mri-dataset/Training'\n",
    "train_data = preprocessingImages1(path)"
   ]
  },
  {
   "cell_type": "code",
   "execution_count": 19,
   "metadata": {},
   "outputs": [],
   "source": [
    "def preprocessingImages2(path):\n",
    "    ## input :path\n",
    "    ## output: Pre processed images\n",
    "    image_data = ImageDataGenerator(preprocessing_function= preprocess_input)\n",
    "    image = image_data.flow_from_directory(directory=path, target_size=(224,224), batch_size=256, class_mode='binary')\n",
    "\n",
    "    return image"
   ]
  },
  {
   "cell_type": "code",
   "execution_count": 20,
   "metadata": {},
   "outputs": [
    {
     "name": "stdout",
     "output_type": "stream",
     "text": [
      "Found 1311 images belonging to 4 classes.\n"
     ]
    }
   ],
   "source": [
    "path = 'C:/Users/ashen/Downloads/ML-projects/brain-tumor-mri-dataset/Testing'\n",
    "test_data = preprocessingImages2(path)"
   ]
  },
  {
   "cell_type": "code",
   "execution_count": 21,
   "metadata": {},
   "outputs": [
    {
     "name": "stdout",
     "output_type": "stream",
     "text": [
      "Found 1311 images belonging to 4 classes.\n"
     ]
    }
   ],
   "source": [
    "path = 'C:/Users/ashen/Downloads/ML-projects/brain-tumor-mri-dataset/Testing'\n",
    "val_data = preprocessingImages2(path)"
   ]
  },
  {
   "cell_type": "markdown",
   "metadata": {},
   "source": [
    "#### Early stoping and model check point ####"
   ]
  },
  {
   "cell_type": "code",
   "execution_count": 16,
   "metadata": {},
   "outputs": [],
   "source": [
    "from keras.callbacks import ModelCheckpoint, EarlyStopping\n",
    "\n",
    "## Early stopping\n",
    "\n",
    "es = EarlyStopping(monitor =\"val_accuracy\", min_delta=0.01, patience=6, verbose=1, mode=\"auto\")\n",
    "\n",
    "## Model check point\n",
    "\n",
    "mc= ModelCheckpoint(monitor =\"val_accuracy\", filepath='./bestmodel.h5', verbose=1, save_best_only=True, mode=\"auto\")\n",
    "\n",
    "cd = [es, mc]"
   ]
  },
  {
   "cell_type": "markdown",
   "metadata": {},
   "source": [
    "#### Model Training ####"
   ]
  },
  {
   "cell_type": "code",
   "execution_count": 17,
   "metadata": {},
   "outputs": [
    {
     "name": "stdout",
     "output_type": "stream",
     "text": [
      "Epoch 1/30\n",
      "8/8 [==============================] - ETA: 0s - loss: -117.1803 - accuracy: 0.2188\n",
      "Epoch 1: val_accuracy improved from -inf to 0.23047, saving model to .\\bestmodel.h5\n",
      "8/8 [==============================] - 12s 1s/step - loss: -117.1803 - accuracy: 0.2188 - val_loss: -729.0561 - val_accuracy: 0.2305\n",
      "Epoch 2/30\n",
      "8/8 [==============================] - ETA: 0s - loss: -6115.4199 - accuracy: 0.2344\n",
      "Epoch 2: val_accuracy improved from 0.23047 to 0.23438, saving model to .\\bestmodel.h5\n",
      "8/8 [==============================] - 11s 1s/step - loss: -6115.4199 - accuracy: 0.2344 - val_loss: -18021.8770 - val_accuracy: 0.2344\n",
      "Epoch 3/30\n",
      "8/8 [==============================] - ETA: 0s - loss: -79287.5156 - accuracy: 0.1992\n",
      "Epoch 3: val_accuracy did not improve from 0.23438\n",
      "8/8 [==============================] - 10s 1s/step - loss: -79287.5156 - accuracy: 0.1992 - val_loss: -174613.0312 - val_accuracy: 0.2266\n",
      "Epoch 4/30\n",
      "8/8 [==============================] - ETA: 0s - loss: -555742.1250 - accuracy: 0.2422\n",
      "Epoch 4: val_accuracy did not improve from 0.23438\n",
      "8/8 [==============================] - 11s 1s/step - loss: -555742.1250 - accuracy: 0.2422 - val_loss: -1176439.5000 - val_accuracy: 0.2070\n",
      "Epoch 5/30\n",
      "8/8 [==============================] - ETA: 0s - loss: -2114533.0000 - accuracy: 0.2422\n",
      "Epoch 5: val_accuracy did not improve from 0.23438\n",
      "8/8 [==============================] - 11s 1s/step - loss: -2114533.0000 - accuracy: 0.2422 - val_loss: -4624878.0000 - val_accuracy: 0.2246\n",
      "Epoch 6/30\n",
      "8/8 [==============================] - ETA: 0s - loss: -8197781.5000 - accuracy: 0.2422\n",
      "Epoch 6: val_accuracy did not improve from 0.23438\n",
      "8/8 [==============================] - 11s 1s/step - loss: -8197781.5000 - accuracy: 0.2422 - val_loss: -16816688.0000 - val_accuracy: 0.2344\n",
      "Epoch 7/30\n",
      "8/8 [==============================] - ETA: 0s - loss: -25409362.0000 - accuracy: 0.2500\n",
      "Epoch 7: val_accuracy did not improve from 0.23438\n",
      "8/8 [==============================] - 11s 1s/step - loss: -25409362.0000 - accuracy: 0.2500 - val_loss: -56672864.0000 - val_accuracy: 0.2344\n",
      "Epoch 7: early stopping\n"
     ]
    }
   ],
   "source": [
    "history = model.fit_generator(generator= train_data, \n",
    "                              steps_per_epoch=8, \n",
    "                              epochs=30, \n",
    "                              verbose=1, \n",
    "                              validation_data=val_data, \n",
    "                              validation_steps=16, \n",
    "                              callbacks=cd)"
   ]
  },
  {
   "cell_type": "markdown",
   "metadata": {},
   "source": [
    "#### Model Graphical Interpretation ####"
   ]
  },
  {
   "cell_type": "code",
   "execution_count": 22,
   "metadata": {},
   "outputs": [
    {
     "data": {
      "text/plain": [
       "dict_keys(['loss', 'accuracy', 'val_loss', 'val_accuracy'])"
      ]
     },
     "execution_count": 22,
     "metadata": {},
     "output_type": "execute_result"
    }
   ],
   "source": [
    "h = history.history\n",
    "h.keys()"
   ]
  },
  {
   "cell_type": "code",
   "execution_count": 23,
   "metadata": {},
   "outputs": [
    {
     "data": {
      "image/png": "[encoded data removed]",
      "text/plain": [
       "<Figure size 640x480 with 1 Axes>"
      ]
     },
     "metadata": {},
     "output_type": "display_data"
    }
   ],
   "source": [
    "import matplotlib.pyplot as plt\n",
    "\n",
    "plt.plot(h['accuracy'])\n",
    "plt.plot(h['val_accuracy'])\n",
    "\n",
    "plt.title(\"acc vs val-acc\")\n",
    "plt.show()"
   ]
  },
  {
   "cell_type": "code",
   "execution_count": 24,
   "metadata": {},
   "outputs": [
    {
     "data": {
      "image/png": "[encoded data removed]",
      "text/plain": [
       "<Figure size 640x480 with 1 Axes>"
      ]
     },
     "metadata": {},
     "output_type": "display_data"
    }
   ],
   "source": [
    "plt.plot(h['loss'])\n",
    "plt.plot(h['val_loss'])\n",
    "\n",
    "plt.title(\"loss vs val-loss\")\n",
    "plt.show()"
   ]
  },
  {
   "cell_type": "markdown",
   "metadata": {},
   "source": [
    "### Model Accuracy ###"
   ]
  },
  {
   "cell_type": "code",
   "execution_count": 26,
   "metadata": {},
   "outputs": [],
   "source": [
    "from keras.models import load_model\n",
    "model = load_model('C:/Users/ashen/Downloads/ML-projects/bestmodel.h5')"
   ]
  },
  {
   "cell_type": "markdown",
   "metadata": {},
   "source": [
    "### Model Acuuracy ###"
   ]
  },
  {
   "cell_type": "code",
   "execution_count": 28,
   "metadata": {},
   "outputs": [
    {
     "name": "stdout",
     "output_type": "stream",
     "text": [
      "The accuracy of our model is 0.23340961337089539\n"
     ]
    }
   ],
   "source": [
    "acc = model.evaluate_generator(test_data)[1]\n",
    "\n",
    "print(f\"The accuracy of our model is {acc}\")"
   ]
  },
  {
   "cell_type": "code",
   "execution_count": 29,
   "metadata": {},
   "outputs": [],
   "source": [
    "from keras.preprocessing.image import load_img, img_to_array"
   ]
  },
  {
   "cell_type": "code",
   "execution_count": 42,
   "metadata": {},
   "outputs": [
    {
     "data": {
      "image/png": "[encoded data removed]",
      "text/plain": [
       "<Figure size 640x480 with 1 Axes>"
      ]
     },
     "metadata": {},
     "output_type": "display_data"
    },
    {
     "name": "stdout",
     "output_type": "stream",
     "text": [
      "1/1 [==============================] - 0s 24ms/step\n",
      "The MRI detect meningioma\n"
     ]
    }
   ],
   "source": [
    "path = 'C:/Users/ashen/Downloads/ML-projects/brain-tumor-mri-dataset/Testing/glioma/Te-gl_0010.jpg'\n",
    "\n",
    "img = load_img(path, target_size=(224,224))\n",
    "input_arr = img_to_array(img)/255\n",
    "\n",
    "plt.imshow(input_arr)\n",
    "plt.show()\n",
    "\n",
    "input_arr.shape\n",
    "\n",
    "input_arr = np.expand_dims(input_arr, axis=0)\n",
    "\n",
    "pred = model.predict(input_arr)[0][0]\n",
    "pred\n",
    "\n",
    "if pred==0:\n",
    "    print(\"The MRI detect glioma\")\n",
    "\n",
    "elif pred==1:\n",
    "    print(\"The MRI detect meningioma\")\n",
    "    \n",
    "elif pred==2:\n",
    "    print(\"The MRI detect notumor\")\n",
    "\n",
    "else:\n",
    "    print(\"The MRI detect pituitary\")\n",
    "\n"
   ]
  },
  {
   "cell_type": "code",
   "execution_count": 39,
   "metadata": {},
   "outputs": [
    {
     "data": {
      "text/plain": [
       "{'glioma': 0, 'meningioma': 1, 'notumor': 2, 'pituitary': 3}"
      ]
     },
     "execution_count": 39,
     "metadata": {},
     "output_type": "execute_result"
    }
   ],
   "source": [
    "train_data.class_indices"
   ]
  },
  {
   "cell_type": "markdown",
   "metadata": {},
   "source": [
    "## Model Training ## \n",
    "* We are not going to import convolutional or max pool layers. Because all of that is taken here by the pre-trained model\n",
    "* We had used Sequential at last time. But now we are using functional API  "
   ]
  },
  {
   "cell_type": "code",
   "execution_count": 10,
   "metadata": {},
   "outputs": [],
   "source": [
    "import keras\n",
    "from keras.layers import Flatten, Dense\n",
    "from keras.models import Model, load_model\n",
    "from keras.applications.mobilenet import MobileNet"
   ]
  },
  {
   "cell_type": "markdown",
   "metadata": {},
   "source": [
    "Now we have to pre-process the image. That means some images and some models do the regularization by dividing image by (1/255).\n",
    "* But few images take the mean and average and divide it.\n",
    "* keras.applications package we can import whichever model I want. So we have densenet, efficient net, inception v2, mobile net and other of architectures.\n",
    "* We are not going to rescal, it is automatically done by the preprocessing at the preprocessingImages2"
   ]
  },
  {
   "cell_type": "markdown",
   "metadata": {},
   "source": [
    "We have to provide the input shape here <br>\n",
    "We downloaded the pre-trained model"
   ]
  },
  {
   "cell_type": "code",
   "execution_count": 3,
   "metadata": {},
   "outputs": [
    {
     "name": "stdout",
     "output_type": "stream",
     "text": [
      "Downloading data from https://storage.googleapis.com/tensorflow/keras-applications/mobilenet/mobilenet_1_0_224_tf_no_top.h5\n",
      "17225924/17225924 [==============================] - 4s 0us/step\n"
     ]
    }
   ],
   "source": [
    "base_model = MobileNet(input_shape=(224,224,3), include_top = False)"
   ]
  },
  {
   "cell_type": "markdown",
   "metadata": {},
   "source": [
    "Now we are going to make sure that we don't want to retrain this model again. <br>\n",
    "If we don't want to retrain."
   ]
  },
  {
   "cell_type": "code",
   "execution_count": 4,
   "metadata": {},
   "outputs": [],
   "source": [
    "for layer in base_model.layers:\n",
    "    layer.trainable = False"
   ]
  },
  {
   "cell_type": "markdown",
   "metadata": {},
   "source": [
    "Now we are going to club our base model with our custom model. <br>\n",
    "* Now we have to provide the input to the Flattened layer for the input to the flattened layer base_model.output. Which is the convolution layer.\n",
    "* The inputs of model is basically base model dot inputs and output be X"
   ]
  },
  {
   "cell_type": "code",
   "execution_count": 5,
   "metadata": {},
   "outputs": [],
   "source": [
    "X = Flatten()(base_model.output)\n",
    "X = Dense(units=1, activation=\"sigmoid\",)(X)\n",
    "\n",
    "model = Model(base_model.input, X)"
   ]
  },
  {
   "cell_type": "code",
   "execution_count": 6,
   "metadata": {},
   "outputs": [
    {
     "name": "stdout",
     "output_type": "stream",
     "text": [
      "Model: \"model\"\n",
      "_________________________________________________________________\n",
      " Layer (type)                Output Shape              Param #   \n",
      "=================================================================\n",
      " input_1 (InputLayer)        [(None, 224, 224, 3)]     0         \n",
      "                                                                 \n",
      " conv1 (Conv2D)              (None, 112, 112, 32)      864       \n",
      "                                                                 \n",
      " conv1_bn (BatchNormalizati  (None, 112, 112, 32)      128       \n",
      " on)                                                             \n",
      "                                                                 \n",
      " conv1_relu (ReLU)           (None, 112, 112, 32)      0         \n",
      "                                                                 \n",
      " conv_dw_1 (DepthwiseConv2D  (None, 112, 112, 32)      288       \n",
      " )                                                               \n",
      "                                                                 \n",
      " conv_dw_1_bn (BatchNormali  (None, 112, 112, 32)      128       \n",
      " zation)                                                         \n",
      "                                                                 \n",
      " conv_dw_1_relu (ReLU)       (None, 112, 112, 32)      0         \n",
      "                                                                 \n",
      " conv_pw_1 (Conv2D)          (None, 112, 112, 64)      2048      \n",
      "                                                                 \n",
      " conv_pw_1_bn (BatchNormali  (None, 112, 112, 64)      256       \n",
      " zation)                                                         \n",
      "                                                                 \n",
      " conv_pw_1_relu (ReLU)       (None, 112, 112, 64)      0         \n",
      "                                                                 \n",
      " conv_pad_2 (ZeroPadding2D)  (None, 113, 113, 64)      0         \n",
      "                                                                 \n",
      " conv_dw_2 (DepthwiseConv2D  (None, 56, 56, 64)        576       \n",
      " )                                                               \n",
      "                                                                 \n",
      " conv_dw_2_bn (BatchNormali  (None, 56, 56, 64)        256       \n",
      " zation)                                                         \n",
      "                                                                 \n",
      " conv_dw_2_relu (ReLU)       (None, 56, 56, 64)        0         \n",
      "                                                                 \n",
      " conv_pw_2 (Conv2D)          (None, 56, 56, 128)       8192      \n",
      "                                                                 \n",
      " conv_pw_2_bn (BatchNormali  (None, 56, 56, 128)       512       \n",
      " zation)                                                         \n",
      "                                                                 \n",
      " conv_pw_2_relu (ReLU)       (None, 56, 56, 128)       0         \n",
      "                                                                 \n",
      " conv_dw_3 (DepthwiseConv2D  (None, 56, 56, 128)       1152      \n",
      " )                                                               \n",
      "                                                                 \n",
      " conv_dw_3_bn (BatchNormali  (None, 56, 56, 128)       512       \n",
      " zation)                                                         \n",
      "                                                                 \n",
      " conv_dw_3_relu (ReLU)       (None, 56, 56, 128)       0         \n",
      "                                                                 \n",
      " conv_pw_3 (Conv2D)          (None, 56, 56, 128)       16384     \n",
      "                                                                 \n",
      " conv_pw_3_bn (BatchNormali  (None, 56, 56, 128)       512       \n",
      " zation)                                                         \n",
      "                                                                 \n",
      " conv_pw_3_relu (ReLU)       (None, 56, 56, 128)       0         \n",
      "                                                                 \n",
      " conv_pad_4 (ZeroPadding2D)  (None, 57, 57, 128)       0         \n",
      "                                                                 \n",
      " conv_dw_4 (DepthwiseConv2D  (None, 28, 28, 128)       1152      \n",
      " )                                                               \n",
      "                                                                 \n",
      " conv_dw_4_bn (BatchNormali  (None, 28, 28, 128)       512       \n",
      " zation)                                                         \n",
      "                                                                 \n",
      " conv_dw_4_relu (ReLU)       (None, 28, 28, 128)       0         \n",
      "                                                                 \n",
      " conv_pw_4 (Conv2D)          (None, 28, 28, 256)       32768     \n",
      "                                                                 \n",
      " conv_pw_4_bn (BatchNormali  (None, 28, 28, 256)       1024      \n",
      " zation)                                                         \n",
      "                                                                 \n",
      " conv_pw_4_relu (ReLU)       (None, 28, 28, 256)       0         \n",
      "                                                                 \n",
      " conv_dw_5 (DepthwiseConv2D  (None, 28, 28, 256)       2304      \n",
      " )                                                               \n",
      "                                                                 \n",
      " conv_dw_5_bn (BatchNormali  (None, 28, 28, 256)       1024      \n",
      " zation)                                                         \n",
      "                                                                 \n",
      " conv_dw_5_relu (ReLU)       (None, 28, 28, 256)       0         \n",
      "                                                                 \n",
      " conv_pw_5 (Conv2D)          (None, 28, 28, 256)       65536     \n",
      "                                                                 \n",
      " conv_pw_5_bn (BatchNormali  (None, 28, 28, 256)       1024      \n",
      " zation)                                                         \n",
      "                                                                 \n",
      " conv_pw_5_relu (ReLU)       (None, 28, 28, 256)       0         \n",
      "                                                                 \n",
      " conv_pad_6 (ZeroPadding2D)  (None, 29, 29, 256)       0         \n",
      "                                                                 \n",
      " conv_dw_6 (DepthwiseConv2D  (None, 14, 14, 256)       2304      \n",
      " )                                                               \n",
      "                                                                 \n",
      " conv_dw_6_bn (BatchNormali  (None, 14, 14, 256)       1024      \n",
      " zation)                                                         \n",
      "                                                                 \n",
      " conv_dw_6_relu (ReLU)       (None, 14, 14, 256)       0         \n",
      "                                                                 \n",
      " conv_pw_6 (Conv2D)          (None, 14, 14, 512)       131072    \n",
      "                                                                 \n",
      " conv_pw_6_bn (BatchNormali  (None, 14, 14, 512)       2048      \n",
      " zation)                                                         \n",
      "                                                                 \n",
      " conv_pw_6_relu (ReLU)       (None, 14, 14, 512)       0         \n",
      "                                                                 \n",
      " conv_dw_7 (DepthwiseConv2D  (None, 14, 14, 512)       4608      \n",
      " )                                                               \n",
      "                                                                 \n",
      " conv_dw_7_bn (BatchNormali  (None, 14, 14, 512)       2048      \n",
      " zation)                                                         \n",
      "                                                                 \n",
      " conv_dw_7_relu (ReLU)       (None, 14, 14, 512)       0         \n",
      "                                                                 \n",
      " conv_pw_7 (Conv2D)          (None, 14, 14, 512)       262144    \n",
      "                                                                 \n",
      " conv_pw_7_bn (BatchNormali  (None, 14, 14, 512)       2048      \n",
      " zation)                                                         \n",
      "                                                                 \n",
      " conv_pw_7_relu (ReLU)       (None, 14, 14, 512)       0         \n",
      "                                                                 \n",
      " conv_dw_8 (DepthwiseConv2D  (None, 14, 14, 512)       4608      \n",
      " )                                                               \n",
      "                                                                 \n",
      " conv_dw_8_bn (BatchNormali  (None, 14, 14, 512)       2048      \n",
      " zation)                                                         \n",
      "                                                                 \n",
      " conv_dw_8_relu (ReLU)       (None, 14, 14, 512)       0         \n",
      "                                                                 \n",
      " conv_pw_8 (Conv2D)          (None, 14, 14, 512)       262144    \n",
      "                                                                 \n",
      " conv_pw_8_bn (BatchNormali  (None, 14, 14, 512)       2048      \n",
      " zation)                                                         \n",
      "                                                                 \n",
      " conv_pw_8_relu (ReLU)       (None, 14, 14, 512)       0         \n",
      "                                                                 \n",
      " conv_dw_9 (DepthwiseConv2D  (None, 14, 14, 512)       4608      \n",
      " )                                                               \n",
      "                                                                 \n",
      " conv_dw_9_bn (BatchNormali  (None, 14, 14, 512)       2048      \n",
      " zation)                                                         \n",
      "                                                                 \n",
      " conv_dw_9_relu (ReLU)       (None, 14, 14, 512)       0         \n",
      "                                                                 \n",
      " conv_pw_9 (Conv2D)          (None, 14, 14, 512)       262144    \n",
      "                                                                 \n",
      " conv_pw_9_bn (BatchNormali  (None, 14, 14, 512)       2048      \n",
      " zation)                                                         \n",
      "                                                                 \n",
      " conv_pw_9_relu (ReLU)       (None, 14, 14, 512)       0         \n",
      "                                                                 \n",
      " conv_dw_10 (DepthwiseConv2  (None, 14, 14, 512)       4608      \n",
      " D)                                                              \n",
      "                                                                 \n",
      " conv_dw_10_bn (BatchNormal  (None, 14, 14, 512)       2048      \n",
      " ization)                                                        \n",
      "                                                                 \n",
      " conv_dw_10_relu (ReLU)      (None, 14, 14, 512)       0         \n",
      "                                                                 \n",
      " conv_pw_10 (Conv2D)         (None, 14, 14, 512)       262144    \n",
      "                                                                 \n",
      " conv_pw_10_bn (BatchNormal  (None, 14, 14, 512)       2048      \n",
      " ization)                                                        \n",
      "                                                                 \n",
      " conv_pw_10_relu (ReLU)      (None, 14, 14, 512)       0         \n",
      "                                                                 \n",
      " conv_dw_11 (DepthwiseConv2  (None, 14, 14, 512)       4608      \n",
      " D)                                                              \n",
      "                                                                 \n",
      " conv_dw_11_bn (BatchNormal  (None, 14, 14, 512)       2048      \n",
      " ization)                                                        \n",
      "                                                                 \n",
      " conv_dw_11_relu (ReLU)      (None, 14, 14, 512)       0         \n",
      "                                                                 \n",
      " conv_pw_11 (Conv2D)         (None, 14, 14, 512)       262144    \n",
      "                                                                 \n",
      " conv_pw_11_bn (BatchNormal  (None, 14, 14, 512)       2048      \n",
      " ization)                                                        \n",
      "                                                                 \n",
      " conv_pw_11_relu (ReLU)      (None, 14, 14, 512)       0         \n",
      "                                                                 \n",
      " conv_pad_12 (ZeroPadding2D  (None, 15, 15, 512)       0         \n",
      " )                                                               \n",
      "                                                                 \n",
      " conv_dw_12 (DepthwiseConv2  (None, 7, 7, 512)         4608      \n",
      " D)                                                              \n",
      "                                                                 \n",
      " conv_dw_12_bn (BatchNormal  (None, 7, 7, 512)         2048      \n",
      " ization)                                                        \n",
      "                                                                 \n",
      " conv_dw_12_relu (ReLU)      (None, 7, 7, 512)         0         \n",
      "                                                                 \n",
      " conv_pw_12 (Conv2D)         (None, 7, 7, 1024)        524288    \n",
      "                                                                 \n",
      " conv_pw_12_bn (BatchNormal  (None, 7, 7, 1024)        4096      \n",
      " ization)                                                        \n",
      "                                                                 \n",
      " conv_pw_12_relu (ReLU)      (None, 7, 7, 1024)        0         \n",
      "                                                                 \n",
      " conv_dw_13 (DepthwiseConv2  (None, 7, 7, 1024)        9216      \n",
      " D)                                                              \n",
      "                                                                 \n",
      " conv_dw_13_bn (BatchNormal  (None, 7, 7, 1024)        4096      \n",
      " ization)                                                        \n",
      "                                                                 \n",
      " conv_dw_13_relu (ReLU)      (None, 7, 7, 1024)        0         \n",
      "                                                                 \n",
      " conv_pw_13 (Conv2D)         (None, 7, 7, 1024)        1048576   \n",
      "                                                                 \n",
      " conv_pw_13_bn (BatchNormal  (None, 7, 7, 1024)        4096      \n",
      " ization)                                                        \n",
      "                                                                 \n",
      " conv_pw_13_relu (ReLU)      (None, 7, 7, 1024)        0         \n",
      "                                                                 \n",
      " flatten (Flatten)           (None, 50176)             0         \n",
      "                                                                 \n",
      " dense (Dense)               (None, 1)                 50177     \n",
      "                                                                 \n",
      "=================================================================\n",
      "Total params: 3279041 (12.51 MB)\n",
      "Trainable params: 50177 (196.00 KB)\n",
      "Non-trainable params: 3228864 (12.32 MB)\n",
      "_________________________________________________________________\n"
     ]
    }
   ],
   "source": [
    "model.summary()"
   ]
  },
  {
   "cell_type": "code",
   "execution_count": 22,
   "metadata": {},
   "outputs": [],
   "source": [
    "model.compile(optimizer ='rmsprop', loss=keras.losses.binary_crossentropy, metrics = ['accuracy'])"
   ]
  },
  {
   "cell_type": "code",
   "execution_count": 23,
   "metadata": {},
   "outputs": [],
   "source": [
    "## Call Back\n",
    "\n",
    "from keras.callbacks import ModelCheckpoint, EarlyStopping\n",
    "\n",
    "## Model Checkpoint\n",
    "mc = ModelCheckpoint(filepath='bestmodel.h5', monitor='val_accuracy', verbose=1, save_best_model=True)\n",
    "\n",
    "## Early stopping\n",
    "es = EarlyStopping(monitor='val_accuracy', min_delta=0.01, patience=3, verbose=1)\n",
    "\n",
    "cb = [mc,es]"
   ]
  },
  {
   "cell_type": "code",
   "execution_count": 25,
   "metadata": {},
   "outputs": [
    {
     "name": "stderr",
     "output_type": "stream",
     "text": [
      "C:\\Users\\ashen\\AppData\\Local\\Temp\\ipykernel_22636\\2298518211.py:1: UserWarning: `Model.fit_generator` is deprecated and will be removed in a future version. Please use `Model.fit`, which supports generators.\n",
      "  history2 = model.fit_generator(train_data,\n"
     ]
    },
    {
     "name": "stdout",
     "output_type": "stream",
     "text": [
      "Epoch 1/30\n",
      "8/8 [==============================] - ETA: 0s - loss: -97.5334 - accuracy: 0.1992WARNING:tensorflow:Your input ran out of data; interrupting training. Make sure that your dataset or generator can generate at least `steps_per_epoch * epochs` batches (in this case, 16 batches). You may need to use the repeat() function when building your dataset.\n",
      "\n",
      "Epoch 1: saving model to bestmodel.h5\n",
      "8/8 [==============================] - 17s 2s/step - loss: -97.5334 - accuracy: 0.1992 - val_loss: -167.1668 - val_accuracy: 0.2334\n",
      "Epoch 2/30\n"
     ]
    },
    {
     "name": "stderr",
     "output_type": "stream",
     "text": [
      "c:\\Users\\ashen\\miniconda3\\envs\\mlproject\\lib\\site-packages\\keras\\src\\engine\\training.py:3079: UserWarning: You are saving your model as an HDF5 file via `model.save()`. This file format is considered legacy. We recommend using instead the native Keras format, e.g. `model.save('my_model.keras')`.\n",
      "  saving_api.save_model(\n"
     ]
    },
    {
     "name": "stdout",
     "output_type": "stream",
     "text": [
      "8/8 [==============================] - ETA: 0s - loss: -229.5840 - accuracy: 0.2383\n",
      "Epoch 2: saving model to bestmodel.h5\n",
      "WARNING:tensorflow:Early stopping conditioned on metric `val_accuracy` which is not available. Available metrics are: loss,accuracy\n",
      "8/8 [==============================] - 4s 435ms/step - loss: -229.5840 - accuracy: 0.2383\n",
      "Epoch 3/30\n",
      "8/8 [==============================] - ETA: 0s - loss: -310.8910 - accuracy: 0.2656\n",
      "Epoch 3: saving model to bestmodel.h5\n",
      "WARNING:tensorflow:Early stopping conditioned on metric `val_accuracy` which is not available. Available metrics are: loss,accuracy\n",
      "8/8 [==============================] - 4s 444ms/step - loss: -310.8910 - accuracy: 0.2656\n",
      "Epoch 4/30\n",
      "8/8 [==============================] - ETA: 0s - loss: -414.7243 - accuracy: 0.3008\n",
      "Epoch 4: saving model to bestmodel.h5\n",
      "WARNING:tensorflow:Early stopping conditioned on metric `val_accuracy` which is not available. Available metrics are: loss,accuracy\n",
      "8/8 [==============================] - 4s 431ms/step - loss: -414.7243 - accuracy: 0.3008\n",
      "Epoch 5/30\n",
      "8/8 [==============================] - ETA: 0s - loss: -542.8738 - accuracy: 0.2500\n",
      "Epoch 5: saving model to bestmodel.h5\n",
      "WARNING:tensorflow:Early stopping conditioned on metric `val_accuracy` which is not available. Available metrics are: loss,accuracy\n",
      "8/8 [==============================] - 4s 422ms/step - loss: -542.8738 - accuracy: 0.2500\n",
      "Epoch 6/30\n",
      "8/8 [==============================] - ETA: 0s - loss: -761.4266 - accuracy: 0.2422\n",
      "Epoch 6: saving model to bestmodel.h5\n",
      "WARNING:tensorflow:Early stopping conditioned on metric `val_accuracy` which is not available. Available metrics are: loss,accuracy\n",
      "8/8 [==============================] - 4s 435ms/step - loss: -761.4266 - accuracy: 0.2422\n",
      "Epoch 7/30\n",
      "8/8 [==============================] - ETA: 0s - loss: -718.2405 - accuracy: 0.2656\n",
      "Epoch 7: saving model to bestmodel.h5\n",
      "WARNING:tensorflow:Early stopping conditioned on metric `val_accuracy` which is not available. Available metrics are: loss,accuracy\n",
      "8/8 [==============================] - 4s 428ms/step - loss: -718.2405 - accuracy: 0.2656\n",
      "Epoch 8/30\n",
      "8/8 [==============================] - ETA: 0s - loss: -809.7194 - accuracy: 0.2500\n",
      "Epoch 8: saving model to bestmodel.h5\n",
      "WARNING:tensorflow:Early stopping conditioned on metric `val_accuracy` which is not available. Available metrics are: loss,accuracy\n",
      "8/8 [==============================] - 4s 448ms/step - loss: -809.7194 - accuracy: 0.2500\n",
      "Epoch 9/30\n",
      "8/8 [==============================] - ETA: 0s - loss: -995.4527 - accuracy: 0.2422\n",
      "Epoch 9: saving model to bestmodel.h5\n",
      "WARNING:tensorflow:Early stopping conditioned on metric `val_accuracy` which is not available. Available metrics are: loss,accuracy\n",
      "8/8 [==============================] - 4s 427ms/step - loss: -995.4527 - accuracy: 0.2422\n",
      "Epoch 10/30\n",
      "8/8 [==============================] - ETA: 0s - loss: -1001.1593 - accuracy: 0.2578\n",
      "Epoch 10: saving model to bestmodel.h5\n",
      "WARNING:tensorflow:Early stopping conditioned on metric `val_accuracy` which is not available. Available metrics are: loss,accuracy\n",
      "8/8 [==============================] - 4s 431ms/step - loss: -1001.1593 - accuracy: 0.2578\n",
      "Epoch 11/30\n",
      "8/8 [==============================] - ETA: 0s - loss: -1032.8636 - accuracy: 0.2500\n",
      "Epoch 11: saving model to bestmodel.h5\n",
      "WARNING:tensorflow:Early stopping conditioned on metric `val_accuracy` which is not available. Available metrics are: loss,accuracy\n",
      "8/8 [==============================] - 4s 434ms/step - loss: -1032.8636 - accuracy: 0.2500\n",
      "Epoch 12/30\n",
      "8/8 [==============================] - ETA: 0s - loss: -1506.8550 - accuracy: 0.2500\n",
      "Epoch 12: saving model to bestmodel.h5\n",
      "WARNING:tensorflow:Early stopping conditioned on metric `val_accuracy` which is not available. Available metrics are: loss,accuracy\n",
      "8/8 [==============================] - 4s 440ms/step - loss: -1506.8550 - accuracy: 0.2500\n",
      "Epoch 13/30\n",
      "8/8 [==============================] - ETA: 0s - loss: -1446.4147 - accuracy: 0.2578\n",
      "Epoch 13: saving model to bestmodel.h5\n",
      "WARNING:tensorflow:Early stopping conditioned on metric `val_accuracy` which is not available. Available metrics are: loss,accuracy\n",
      "8/8 [==============================] - 4s 434ms/step - loss: -1446.4147 - accuracy: 0.2578\n",
      "Epoch 14/30\n",
      "8/8 [==============================] - ETA: 0s - loss: -1600.2581 - accuracy: 0.2617\n",
      "Epoch 14: saving model to bestmodel.h5\n",
      "WARNING:tensorflow:Early stopping conditioned on metric `val_accuracy` which is not available. Available metrics are: loss,accuracy\n",
      "8/8 [==============================] - 4s 435ms/step - loss: -1600.2581 - accuracy: 0.2617\n",
      "Epoch 15/30\n",
      "8/8 [==============================] - ETA: 0s - loss: -1865.8544 - accuracy: 0.2305\n",
      "Epoch 15: saving model to bestmodel.h5\n",
      "WARNING:tensorflow:Early stopping conditioned on metric `val_accuracy` which is not available. Available metrics are: loss,accuracy\n",
      "8/8 [==============================] - 4s 446ms/step - loss: -1865.8544 - accuracy: 0.2305\n",
      "Epoch 16/30\n",
      "8/8 [==============================] - ETA: 0s - loss: -1788.7146 - accuracy: 0.2617\n",
      "Epoch 16: saving model to bestmodel.h5\n",
      "WARNING:tensorflow:Early stopping conditioned on metric `val_accuracy` which is not available. Available metrics are: loss,accuracy\n",
      "8/8 [==============================] - 4s 435ms/step - loss: -1788.7146 - accuracy: 0.2617\n",
      "Epoch 17/30\n",
      "8/8 [==============================] - ETA: 0s - loss: -2236.7432 - accuracy: 0.2031\n",
      "Epoch 17: saving model to bestmodel.h5\n",
      "WARNING:tensorflow:Early stopping conditioned on metric `val_accuracy` which is not available. Available metrics are: loss,accuracy\n",
      "8/8 [==============================] - 4s 431ms/step - loss: -2236.7432 - accuracy: 0.2031\n",
      "Epoch 18/30\n",
      "8/8 [==============================] - ETA: 0s - loss: -1810.8165 - accuracy: 0.2617\n",
      "Epoch 18: saving model to bestmodel.h5\n",
      "WARNING:tensorflow:Early stopping conditioned on metric `val_accuracy` which is not available. Available metrics are: loss,accuracy\n",
      "8/8 [==============================] - 4s 428ms/step - loss: -1810.8165 - accuracy: 0.2617\n",
      "Epoch 19/30\n",
      "8/8 [==============================] - ETA: 0s - loss: -2167.8960 - accuracy: 0.2344\n",
      "Epoch 19: saving model to bestmodel.h5\n",
      "WARNING:tensorflow:Early stopping conditioned on metric `val_accuracy` which is not available. Available metrics are: loss,accuracy\n",
      "8/8 [==============================] - 4s 440ms/step - loss: -2167.8960 - accuracy: 0.2344\n",
      "Epoch 20/30\n",
      "8/8 [==============================] - ETA: 0s - loss: -2366.7471 - accuracy: 0.2188\n",
      "Epoch 20: saving model to bestmodel.h5\n",
      "WARNING:tensorflow:Early stopping conditioned on metric `val_accuracy` which is not available. Available metrics are: loss,accuracy\n",
      "8/8 [==============================] - 4s 434ms/step - loss: -2366.7471 - accuracy: 0.2188\n",
      "Epoch 21/30\n",
      "8/8 [==============================] - ETA: 0s - loss: -2471.5127 - accuracy: 0.2344\n",
      "Epoch 21: saving model to bestmodel.h5\n",
      "WARNING:tensorflow:Early stopping conditioned on metric `val_accuracy` which is not available. Available metrics are: loss,accuracy\n",
      "8/8 [==============================] - 4s 432ms/step - loss: -2471.5127 - accuracy: 0.2344\n",
      "Epoch 22/30\n",
      "8/8 [==============================] - ETA: 0s - loss: -3577.7734 - accuracy: 0.1797\n",
      "Epoch 22: saving model to bestmodel.h5\n",
      "WARNING:tensorflow:Early stopping conditioned on metric `val_accuracy` which is not available. Available metrics are: loss,accuracy\n",
      "8/8 [==============================] - 4s 436ms/step - loss: -3577.7734 - accuracy: 0.1797\n",
      "Epoch 23/30\n",
      "8/8 [==============================] - ETA: 0s - loss: -2021.5972 - accuracy: 0.2500\n",
      "Epoch 23: saving model to bestmodel.h5\n",
      "WARNING:tensorflow:Early stopping conditioned on metric `val_accuracy` which is not available. Available metrics are: loss,accuracy\n",
      "8/8 [==============================] - 4s 426ms/step - loss: -2021.5972 - accuracy: 0.2500\n",
      "Epoch 24/30\n",
      "8/8 [==============================] - ETA: 0s - loss: -2950.1970 - accuracy: 0.2461\n",
      "Epoch 24: saving model to bestmodel.h5\n",
      "WARNING:tensorflow:Early stopping conditioned on metric `val_accuracy` which is not available. Available metrics are: loss,accuracy\n",
      "8/8 [==============================] - 4s 431ms/step - loss: -2950.1970 - accuracy: 0.2461\n",
      "Epoch 25/30\n",
      "8/8 [==============================] - ETA: 0s - loss: -2597.6897 - accuracy: 0.2617\n",
      "Epoch 25: saving model to bestmodel.h5\n",
      "WARNING:tensorflow:Early stopping conditioned on metric `val_accuracy` which is not available. Available metrics are: loss,accuracy\n",
      "8/8 [==============================] - 4s 446ms/step - loss: -2597.6897 - accuracy: 0.2617\n",
      "Epoch 26/30\n",
      "8/8 [==============================] - ETA: 0s - loss: -3090.3403 - accuracy: 0.2148\n",
      "Epoch 26: saving model to bestmodel.h5\n",
      "WARNING:tensorflow:Early stopping conditioned on metric `val_accuracy` which is not available. Available metrics are: loss,accuracy\n",
      "8/8 [==============================] - 4s 438ms/step - loss: -3090.3403 - accuracy: 0.2148\n",
      "Epoch 27/30\n",
      "8/8 [==============================] - ETA: 0s - loss: -2916.0869 - accuracy: 0.2578\n",
      "Epoch 27: saving model to bestmodel.h5\n",
      "WARNING:tensorflow:Early stopping conditioned on metric `val_accuracy` which is not available. Available metrics are: loss,accuracy\n",
      "8/8 [==============================] - 4s 431ms/step - loss: -2916.0869 - accuracy: 0.2578\n",
      "Epoch 28/30\n",
      "8/8 [==============================] - ETA: 0s - loss: -3311.4226 - accuracy: 0.2148\n",
      "Epoch 28: saving model to bestmodel.h5\n",
      "WARNING:tensorflow:Early stopping conditioned on metric `val_accuracy` which is not available. Available metrics are: loss,accuracy\n",
      "8/8 [==============================] - 4s 437ms/step - loss: -3311.4226 - accuracy: 0.2148\n",
      "Epoch 29/30\n",
      "8/8 [==============================] - ETA: 0s - loss: -2475.2043 - accuracy: 0.2188\n",
      "Epoch 29: saving model to bestmodel.h5\n",
      "WARNING:tensorflow:Early stopping conditioned on metric `val_accuracy` which is not available. Available metrics are: loss,accuracy\n",
      "8/8 [==============================] - 4s 453ms/step - loss: -2475.2043 - accuracy: 0.2188\n",
      "Epoch 30/30\n",
      "8/8 [==============================] - ETA: 0s - loss: -3081.0042 - accuracy: 0.2227\n",
      "Epoch 30: saving model to bestmodel.h5\n",
      "WARNING:tensorflow:Early stopping conditioned on metric `val_accuracy` which is not available. Available metrics are: loss,accuracy\n",
      "8/8 [==============================] - 4s 453ms/step - loss: -3081.0042 - accuracy: 0.2227\n"
     ]
    }
   ],
   "source": [
    "history2 = model.fit_generator(train_data, \n",
    "                               steps_per_epoch=8, \n",
    "                               epochs= 30, \n",
    "                               validation_data=val_data, \n",
    "                               validation_steps=16, callbacks=cb)"
   ]
  },
  {
   "cell_type": "markdown",
   "metadata": {},
   "source": [
    "#### Load the best fit model ####"
   ]
  },
  {
   "cell_type": "code",
   "execution_count": 26,
   "metadata": {},
   "outputs": [],
   "source": [
    "model = load_model('C:/Users/ashen/Downloads/ML-projects/bestmodel.h5')"
   ]
  },
  {
   "cell_type": "code",
   "execution_count": 28,
   "metadata": {},
   "outputs": [
    {
     "name": "stdout",
     "output_type": "stream",
     "text": [
      "6/6 [==============================] - 12s 2s/step - loss: -3198.0266 - accuracy: 0.2334\n",
      "Our model accuracy is 0.23340961337089539\n"
     ]
    }
   ],
   "source": [
    "acc = model.evaluate(test_data)[1]\n",
    "print(f'Our model accuracy is {acc}')"
   ]
  }
 ],
 "metadata": {
  "kernelspec": {
   "display_name": "mlproject",
   "language": "python",
   "name": "python3"
  },
  "language_info": {
   "codemirror_mode": {
    "name": "ipython",
    "version": 3
   },
   "file_extension": ".py",
   "mimetype": "text/x-python",
   "name": "python",
   "nbconvert_exporter": "python",
   "pygments_lexer": "ipython3",
   "version": "3.9.18"
  }
 },
 "nbformat": 4,
 "nbformat_minor": 2
}

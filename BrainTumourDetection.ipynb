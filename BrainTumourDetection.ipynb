{
 "cells": [
  {
   "cell_type": "code",
   "execution_count": 1,
   "metadata": {},
   "outputs": [],
   "source": [
    "import opendatasets as od\n",
    "import pandas\n",
    "\n",
    "# od.download(\n",
    "# \t\"https://www.kaggle.com/datasets/masoudnickparvar/brain-tumor-mri-dataset\")\n"
   ]
  },
  {
   "cell_type": "code",
   "execution_count": 2,
   "metadata": {},
   "outputs": [],
   "source": [
    "import warnings\n",
    "warnings.filterwarnings('ignore')"
   ]
  },
  {
   "cell_type": "code",
   "execution_count": 3,
   "metadata": {},
   "outputs": [],
   "source": [
    "import numpy as np\n",
    "import matplotlib.pyplot as plt\n",
    "import os\n",
    "import math\n",
    "import shutil\n",
    "import glob"
   ]
  },
  {
   "cell_type": "markdown",
   "metadata": {},
   "source": [
    "count the number of images in the respective classes <br>\n",
    "0 - Brain Tumout <br>\n",
    "1 - Healthey"
   ]
  },
  {
   "cell_type": "code",
   "execution_count": 4,
   "metadata": {},
   "outputs": [],
   "source": [
    "ROOT_DIR = 'C:/Users/ashen/Downloads/ML-projects/brain-tumor-mri-dataset/Training'\n",
    "number_of_images = {}\n",
    "\n",
    "for dir in os.listdir(ROOT_DIR):\n",
    "    number_of_images[dir] = len(os.listdir(os.path.join(ROOT_DIR, dir)))"
   ]
  },
  {
   "cell_type": "code",
   "execution_count": 5,
   "metadata": {},
   "outputs": [
    {
     "data": {
      "text/plain": [
       "dict_items([('glioma', 1321), ('meningioma', 1339), ('notumor', 1595), ('pituitary', 1457)])"
      ]
     },
     "execution_count": 5,
     "metadata": {},
     "output_type": "execute_result"
    }
   ],
   "source": [
    "number_of_images.items()"
   ]
  },
  {
   "cell_type": "markdown",
   "metadata": {},
   "source": [
    "### We will split the data such that ###\n",
    "\n",
    "* 70% for Train data\n",
    "* 15% for Validation\n",
    "* 15% for Testing\n"
   ]
  },
  {
   "cell_type": "markdown",
   "metadata": {},
   "source": [
    "## Model Build ##"
   ]
  },
  {
   "cell_type": "code",
   "execution_count": 6,
   "metadata": {},
   "outputs": [],
   "source": [
    "from keras.layers import Conv2D, MaxPool2D, Dropout, Flatten, Dense, BatchNormalization, GlobalAvgPool2D\n",
    "from keras.models import Sequential\n",
    "from keras.preprocessing.image import ImageDataGenerator\n",
    "import keras"
   ]
  },
  {
   "cell_type": "markdown",
   "metadata": {},
   "source": [
    "### CNN Model ###"
   ]
  },
  {
   "cell_type": "code",
   "execution_count": 7,
   "metadata": {},
   "outputs": [],
   "source": [
    "model = Sequential()\n",
    "\n",
    "model.add(Conv2D(filters=16, kernel_size=(3,3), activation='relu', input_shape=(224,224,3)))\n",
    "\n",
    "model.add(Conv2D(filters=36, kernel_size=(3,3), activation='relu'))\n",
    "model.add(MaxPool2D(pool_size=(2,2)))\n",
    "\n",
    "model.add(Conv2D(filters=64, kernel_size=(3,3), activation='relu'))\n",
    "model.add(MaxPool2D(pool_size=(2,2)))\n",
    "\n",
    "model.add(Conv2D(filters=128, kernel_size=(3,3), activation='relu'))\n",
    "model.add(MaxPool2D(pool_size=(2,2)))\n",
    "\n",
    "model.add(Dropout(rate=0.25))\n",
    "\n",
    "model.add(Flatten())\n",
    "model.add(Dense(units=64, activation='relu'))\n",
    "model.add(Dropout(rate=0.25))\n",
    "model.add(Dense(units=1, activation='sigmoid'))"
   ]
  },
  {
   "cell_type": "code",
   "execution_count": 8,
   "metadata": {},
   "outputs": [
    {
     "name": "stdout",
     "output_type": "stream",
     "text": [
      "Model: \"sequential\"\n",
      "_________________________________________________________________\n",
      " Layer (type)                Output Shape              Param #   \n",
      "=================================================================\n",
      " conv2d (Conv2D)             (None, 222, 222, 16)      448       \n",
      "                                                                 \n",
      " conv2d_1 (Conv2D)           (None, 220, 220, 36)      5220      \n",
      "                                                                 \n",
      " max_pooling2d (MaxPooling2  (None, 110, 110, 36)      0         \n",
      " D)                                                              \n",
      "                                                                 \n",
      " conv2d_2 (Conv2D)           (None, 108, 108, 64)      20800     \n",
      "                                                                 \n",
      " max_pooling2d_1 (MaxPoolin  (None, 54, 54, 64)        0         \n",
      " g2D)                                                            \n",
      "                                                                 \n",
      " conv2d_3 (Conv2D)           (None, 52, 52, 128)       73856     \n",
      "                                                                 \n",
      " max_pooling2d_2 (MaxPoolin  (None, 26, 26, 128)       0         \n",
      " g2D)                                                            \n",
      "                                                                 \n",
      " dropout (Dropout)           (None, 26, 26, 128)       0         \n",
      "                                                                 \n",
      " flatten (Flatten)           (None, 86528)             0         \n",
      "                                                                 \n",
      " dense (Dense)               (None, 64)                5537856   \n",
      "                                                                 \n",
      " dropout_1 (Dropout)         (None, 64)                0         \n",
      "                                                                 \n",
      " dense_1 (Dense)             (None, 1)                 65        \n",
      "                                                                 \n",
      "=================================================================\n",
      "Total params: 5638245 (21.51 MB)\n",
      "Trainable params: 5638245 (21.51 MB)\n",
      "Non-trainable params: 0 (0.00 Byte)\n",
      "_________________________________________________________________\n"
     ]
    }
   ],
   "source": [
    "model.summary()"
   ]
  },
  {
   "cell_type": "code",
   "execution_count": 9,
   "metadata": {},
   "outputs": [],
   "source": [
    "model.compile(optimizer='adam', loss=keras.losses.binary_crossentropy, metrics=['accuracy'])"
   ]
  },
  {
   "cell_type": "markdown",
   "metadata": {},
   "source": [
    "#### Preparing our data using Data Generator ####"
   ]
  },
  {
   "cell_type": "code",
   "execution_count": 10,
   "metadata": {},
   "outputs": [],
   "source": [
    "def preprocessingImages1(path):\n",
    "    ## input :path\n",
    "    ## output: Pre processed images\n",
    "    image_data = ImageDataGenerator(zoom_range= 0.2, shear_range= 0.2, rescale=1/255, horizontal_flip=True)\n",
    "    image = image_data.flow_from_directory(directory=path, target_size=(224,224), batch_size=32, class_mode='binary')\n",
    "\n",
    "    return image"
   ]
  },
  {
   "cell_type": "code",
   "execution_count": 11,
   "metadata": {},
   "outputs": [
    {
     "name": "stdout",
     "output_type": "stream",
     "text": [
      "Found 5712 images belonging to 4 classes.\n"
     ]
    }
   ],
   "source": [
    "path = 'C:/Users/ashen/Downloads/ML-projects/brain-tumor-mri-dataset/Training'\n",
    "train_data = preprocessingImages1(path)"
   ]
  },
  {
   "cell_type": "code",
   "execution_count": 12,
   "metadata": {},
   "outputs": [],
   "source": [
    "def preprocessingImages2(path):\n",
    "    ## input :path\n",
    "    ## output: Pre processed images\n",
    "    image_data = ImageDataGenerator(rescale=1/255)\n",
    "    image = image_data.flow_from_directory(directory=path, target_size=(224,224), batch_size=32, class_mode='binary')\n",
    "\n",
    "    return image"
   ]
  },
  {
   "cell_type": "code",
   "execution_count": 13,
   "metadata": {},
   "outputs": [
    {
     "name": "stdout",
     "output_type": "stream",
     "text": [
      "Found 1311 images belonging to 4 classes.\n"
     ]
    }
   ],
   "source": [
    "path = 'C:/Users/ashen/Downloads/ML-projects/brain-tumor-mri-dataset/Testing'\n",
    "test_data = preprocessingImages2(path)"
   ]
  },
  {
   "cell_type": "code",
   "execution_count": 14,
   "metadata": {},
   "outputs": [
    {
     "name": "stdout",
     "output_type": "stream",
     "text": [
      "Found 1311 images belonging to 4 classes.\n"
     ]
    }
   ],
   "source": [
    "path = 'C:/Users/ashen/Downloads/ML-projects/brain-tumor-mri-dataset/Testing'\n",
    "val_data = preprocessingImages2(path)"
   ]
  },
  {
   "cell_type": "markdown",
   "metadata": {},
   "source": [
    "#### Early stoping and model check point ####"
   ]
  },
  {
   "cell_type": "code",
   "execution_count": 17,
   "metadata": {},
   "outputs": [],
   "source": [
    "from keras.callbacks import ModelCheckpoint, EarlyStopping\n",
    "\n",
    "## Early stopping\n",
    "\n",
    "es = EarlyStopping(monitor =\"val_accuracy\", min_delta=0.01, patience=6, verbose=1, mode=\"auto\")\n",
    "\n",
    "## Model check point\n",
    "\n",
    "mc= ModelCheckpoint(monitor =\"val_accuracy\", filepath='./bestmodel.h5', verbose=1, save_best_only=True, mode=\"auto\")\n",
    "\n",
    "cd = [es, mc]"
   ]
  },
  {
   "cell_type": "markdown",
   "metadata": {},
   "source": [
    "#### Model Training ####"
   ]
  },
  {
   "cell_type": "code",
   "execution_count": 18,
   "metadata": {},
   "outputs": [
    {
     "name": "stdout",
     "output_type": "stream",
     "text": [
      "Epoch 1/30\n",
      "8/8 [==============================] - ETA: 0s - loss: -83462968.0000 - accuracy: 0.1914\n",
      "Epoch 1: val_accuracy improved from -inf to 0.20898, saving model to .\\bestmodel.h5\n",
      "8/8 [==============================] - 11s 1s/step - loss: -83462968.0000 - accuracy: 0.1914 - val_loss: -143537456.0000 - val_accuracy: 0.2090\n",
      "Epoch 2/30\n",
      "8/8 [==============================] - ETA: 0s - loss: -225954880.0000 - accuracy: 0.2578\n",
      "Epoch 2: val_accuracy improved from 0.20898 to 0.23633, saving model to .\\bestmodel.h5\n",
      "8/8 [==============================] - 11s 1s/step - loss: -225954880.0000 - accuracy: 0.2578 - val_loss: -389643776.0000 - val_accuracy: 0.2363\n",
      "Epoch 3/30\n",
      "8/8 [==============================] - ETA: 0s - loss: -574960256.0000 - accuracy: 0.2422\n",
      "Epoch 3: val_accuracy did not improve from 0.23633\n",
      "8/8 [==============================] - 11s 1s/step - loss: -574960256.0000 - accuracy: 0.2422 - val_loss: -978834816.0000 - val_accuracy: 0.2129\n",
      "Epoch 4/30\n",
      "8/8 [==============================] - ETA: 0s - loss: -1257949952.0000 - accuracy: 0.2422\n",
      "Epoch 4: val_accuracy did not improve from 0.23633\n",
      "8/8 [==============================] - 11s 1s/step - loss: -1257949952.0000 - accuracy: 0.2422 - val_loss: -1931777152.0000 - val_accuracy: 0.2207\n",
      "Epoch 5/30\n",
      "8/8 [==============================] - ETA: 0s - loss: -2546030592.0000 - accuracy: 0.2305\n",
      "Epoch 5: val_accuracy did not improve from 0.23633\n",
      "8/8 [==============================] - 13s 2s/step - loss: -2546030592.0000 - accuracy: 0.2305 - val_loss: -3833400320.0000 - val_accuracy: 0.2344\n",
      "Epoch 6/30\n",
      "8/8 [==============================] - ETA: 0s - loss: -6244809728.0000 - accuracy: 0.2461\n",
      "Epoch 6: val_accuracy did not improve from 0.23633\n",
      "8/8 [==============================] - 12s 1s/step - loss: -6244809728.0000 - accuracy: 0.2461 - val_loss: -8174174208.0000 - val_accuracy: 0.2305\n",
      "Epoch 7/30\n",
      "8/8 [==============================] - ETA: 0s - loss: -12294625280.0000 - accuracy: 0.2305\n",
      "Epoch 7: val_accuracy did not improve from 0.23633\n",
      "8/8 [==============================] - 11s 1s/step - loss: -12294625280.0000 - accuracy: 0.2305 - val_loss: -15077685248.0000 - val_accuracy: 0.2246\n",
      "Epoch 8/30\n",
      "8/8 [==============================] - ETA: 0s - loss: -21285212160.0000 - accuracy: 0.2500\n",
      "Epoch 8: val_accuracy did not improve from 0.23633\n",
      "8/8 [==============================] - 11s 1s/step - loss: -21285212160.0000 - accuracy: 0.2500 - val_loss: -26636011520.0000 - val_accuracy: 0.2246\n",
      "Epoch 8: early stopping\n"
     ]
    }
   ],
   "source": [
    "history = model.fit_generator(generator= train_data, \n",
    "                              steps_per_epoch=8, \n",
    "                              epochs=30, \n",
    "                              verbose=1, \n",
    "                              validation_data=val_data, \n",
    "                              validation_steps=16, \n",
    "                              callbacks=cd)"
   ]
  },
  {
   "cell_type": "markdown",
   "metadata": {},
   "source": [
    "#### Model Graphical Interpretation ####"
   ]
  },
  {
   "cell_type": "code",
   "execution_count": 20,
   "metadata": {},
   "outputs": [
    {
     "data": {
      "text/plain": [
       "dict_keys(['loss', 'accuracy', 'val_loss', 'val_accuracy'])"
      ]
     },
     "execution_count": 20,
     "metadata": {},
     "output_type": "execute_result"
    }
   ],
   "source": [
    "h = history.history\n",
    "h.keys()"
   ]
  },
  {
   "cell_type": "code",
   "execution_count": 21,
   "metadata": {},
   "outputs": [
    {
     "data": {
      "image/png": "[encoded data removed]",
      "text/plain": [
       "<Figure size 640x480 with 1 Axes>"
      ]
     },
     "metadata": {},
     "output_type": "display_data"
    }
   ],
   "source": [
    "import matplotlib.pyplot as plt\n",
    "\n",
    "plt.plot(h['accuracy'])\n",
    "plt.plot(h['val_accuracy'])\n",
    "\n",
    "plt.title(\"acc vs val-acc\")\n",
    "plt.show()"
   ]
  },
  {
   "cell_type": "code",
   "execution_count": 22,
   "metadata": {},
   "outputs": [
    {
     "data": {
      "image/png": "[encoded data removed]",
      "text/plain": [
       "<Figure size 640x480 with 1 Axes>"
      ]
     },
     "metadata": {},
     "output_type": "display_data"
    }
   ],
   "source": [
    "plt.plot(h['loss'])\n",
    "plt.plot(h['val_loss'])\n",
    "\n",
    "plt.title(\"loss vs val-loss\")\n",
    "plt.show()"
   ]
  }
 ],
 "metadata": {
  "kernelspec": {
   "display_name": "mlproject",
   "language": "python",
   "name": "python3"
  },
  "language_info": {
   "codemirror_mode": {
    "name": "ipython",
    "version": 3
   },
   "file_extension": ".py",
   "mimetype": "text/x-python",
   "name": "python",
   "nbconvert_exporter": "python",
   "pygments_lexer": "ipython3",
   "version": "3.9.18"
  }
 },
 "nbformat": 4,
 "nbformat_minor": 2
}
